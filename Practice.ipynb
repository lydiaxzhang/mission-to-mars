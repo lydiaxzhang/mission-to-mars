{
 "cells": [
  {
   "cell_type": "code",
   "execution_count": 1,
   "metadata": {},
   "outputs": [],
   "source": [
    "from splinter import Browser\n",
    "from bs4 import BeautifulSoup as soup\n",
    "from webdriver_manager.chrome import ChromeDriverManager"
   ]
  },
  {
   "cell_type": "code",
   "execution_count": 2,
   "metadata": {},
   "outputs": [],
   "source": [
    "# Path to chromedriver\n",
    "!which chromedriver"
   ]
  },
  {
   "cell_type": "code",
   "execution_count": 3,
   "metadata": {},
   "outputs": [
    {
     "name": "stderr",
     "output_type": "stream",
     "text": [
      "[WDM] - ====== WebDriver manager ======\n"
     ]
    },
    {
     "name": "stdout",
     "output_type": "stream",
     "text": [
      "\n",
      "\n"
     ]
    },
    {
     "name": "stderr",
     "output_type": "stream",
     "text": [
      "[WDM] - Current google-chrome version is 88.0.4324\n",
      "[WDM] - Get LATEST driver version for 88.0.4324\n",
      "[WDM] - Driver [/Users/lydiaxzhang/.wdm/drivers/chromedriver/mac64/88.0.4324.96/chromedriver] found in cache\n"
     ]
    }
   ],
   "source": [
    "# Set the executable path and initialize chrome browser in splinter\n",
    "executable_path = {'executable_path': ChromeDriverManager().install()}\n",
    "browser = Browser('chrome', **executable_path, headless=False)"
   ]
  },
  {
   "cell_type": "code",
   "execution_count": 4,
   "metadata": {},
   "outputs": [],
   "source": [
    "# Visit the Quotes to Scrape site\n",
    "url = 'http://quotes.toscrape.com/'\n",
    "browser.visit(url)"
   ]
  },
  {
   "cell_type": "code",
   "execution_count": 5,
   "metadata": {},
   "outputs": [],
   "source": [
    "# Parse the HTML\n",
    "html = browser.html\n",
    "html_soup = soup(html, 'html.parser')"
   ]
  },
  {
   "cell_type": "code",
   "execution_count": 6,
   "metadata": {},
   "outputs": [
    {
     "data": {
      "text/plain": [
       "'Top Ten tags'"
      ]
     },
     "execution_count": 6,
     "metadata": {},
     "output_type": "execute_result"
    }
   ],
   "source": [
    "# Scrape the Title\n",
    "title = html_soup.find('h2').text\n",
    "title"
   ]
  },
  {
   "cell_type": "code",
   "execution_count": 7,
   "metadata": {},
   "outputs": [
    {
     "name": "stdout",
     "output_type": "stream",
     "text": [
      "love\n",
      "inspirational\n",
      "life\n",
      "humor\n",
      "books\n",
      "reading\n",
      "friendship\n",
      "friends\n",
      "truth\n",
      "simile\n"
     ]
    }
   ],
   "source": [
    "# Scrape the top ten tags\n",
    "tag_box = html_soup.find('div', class_='tags-box')\n",
    "# tag_box\n",
    "tags = tag_box.find_all('a', class_='tag')\n",
    "\n",
    "for tag in tags:\n",
    "    word = tag.text\n",
    "    print(word)"
   ]
  },
  {
   "cell_type": "code",
   "execution_count": 8,
   "metadata": {},
   "outputs": [],
   "source": [
    "url = 'http://quotes.toscrape.com/'\n",
    "browser.visit(url)"
   ]
  },
  {
   "cell_type": "code",
   "execution_count": 9,
   "metadata": {},
   "outputs": [
    {
     "name": "stdout",
     "output_type": "stream",
     "text": [
      "page: 1 ----------\n",
      "“The world as we have created it is a process of our thinking. It cannot be changed without changing our thinking.”\n",
      "page: 1 ----------\n",
      "“It is our choices, Harry, that show what we truly are, far more than our abilities.”\n",
      "page: 1 ----------\n",
      "“There are only two ways to live your life. One is as though nothing is a miracle. The other is as though everything is a miracle.”\n",
      "page: 1 ----------\n",
      "“The person, be it gentleman or lady, who has not pleasure in a good novel, must be intolerably stupid.”\n",
      "page: 1 ----------\n",
      "“Imperfection is beauty, madness is genius and it's better to be absolutely ridiculous than absolutely boring.”\n",
      "page: 1 ----------\n",
      "“Try not to become a man of success. Rather become a man of value.”\n",
      "page: 1 ----------\n",
      "“It is better to be hated for what you are than to be loved for what you are not.”\n",
      "page: 1 ----------\n",
      "“I have not failed. I've just found 10,000 ways that won't work.”\n",
      "page: 1 ----------\n",
      "“A woman is like a tea bag; you never know how strong it is until it's in hot water.”\n",
      "page: 1 ----------\n",
      "“A day without sunshine is like, you know, night.”\n",
      "page: 2 ----------\n",
      "“The world as we have created it is a process of our thinking. It cannot be changed without changing our thinking.”\n",
      "page: 2 ----------\n",
      "“It is our choices, Harry, that show what we truly are, far more than our abilities.”\n",
      "page: 2 ----------\n",
      "“There are only two ways to live your life. One is as though nothing is a miracle. The other is as though everything is a miracle.”\n",
      "page: 2 ----------\n",
      "“The person, be it gentleman or lady, who has not pleasure in a good novel, must be intolerably stupid.”\n",
      "page: 2 ----------\n",
      "“Imperfection is beauty, madness is genius and it's better to be absolutely ridiculous than absolutely boring.”\n",
      "page: 2 ----------\n",
      "“Try not to become a man of success. Rather become a man of value.”\n",
      "page: 2 ----------\n",
      "“It is better to be hated for what you are than to be loved for what you are not.”\n",
      "page: 2 ----------\n",
      "“I have not failed. I've just found 10,000 ways that won't work.”\n",
      "page: 2 ----------\n",
      "“A woman is like a tea bag; you never know how strong it is until it's in hot water.”\n",
      "page: 2 ----------\n",
      "“A day without sunshine is like, you know, night.”\n",
      "page: 3 ----------\n",
      "“The world as we have created it is a process of our thinking. It cannot be changed without changing our thinking.”\n",
      "page: 3 ----------\n",
      "“It is our choices, Harry, that show what we truly are, far more than our abilities.”\n",
      "page: 3 ----------\n",
      "“There are only two ways to live your life. One is as though nothing is a miracle. The other is as though everything is a miracle.”\n",
      "page: 3 ----------\n",
      "“The person, be it gentleman or lady, who has not pleasure in a good novel, must be intolerably stupid.”\n",
      "page: 3 ----------\n",
      "“Imperfection is beauty, madness is genius and it's better to be absolutely ridiculous than absolutely boring.”\n",
      "page: 3 ----------\n",
      "“Try not to become a man of success. Rather become a man of value.”\n",
      "page: 3 ----------\n",
      "“It is better to be hated for what you are than to be loved for what you are not.”\n",
      "page: 3 ----------\n",
      "“I have not failed. I've just found 10,000 ways that won't work.”\n",
      "page: 3 ----------\n",
      "“A woman is like a tea bag; you never know how strong it is until it's in hot water.”\n",
      "page: 3 ----------\n",
      "“A day without sunshine is like, you know, night.”\n",
      "page: 4 ----------\n",
      "“The world as we have created it is a process of our thinking. It cannot be changed without changing our thinking.”\n",
      "page: 4 ----------\n",
      "“It is our choices, Harry, that show what we truly are, far more than our abilities.”\n",
      "page: 4 ----------\n",
      "“There are only two ways to live your life. One is as though nothing is a miracle. The other is as though everything is a miracle.”\n",
      "page: 4 ----------\n",
      "“The person, be it gentleman or lady, who has not pleasure in a good novel, must be intolerably stupid.”\n",
      "page: 4 ----------\n",
      "“Imperfection is beauty, madness is genius and it's better to be absolutely ridiculous than absolutely boring.”\n",
      "page: 4 ----------\n",
      "“Try not to become a man of success. Rather become a man of value.”\n",
      "page: 4 ----------\n",
      "“It is better to be hated for what you are than to be loved for what you are not.”\n",
      "page: 4 ----------\n",
      "“I have not failed. I've just found 10,000 ways that won't work.”\n",
      "page: 4 ----------\n",
      "“A woman is like a tea bag; you never know how strong it is until it's in hot water.”\n",
      "page: 4 ----------\n",
      "“A day without sunshine is like, you know, night.”\n",
      "page: 5 ----------\n",
      "“The world as we have created it is a process of our thinking. It cannot be changed without changing our thinking.”\n",
      "page: 5 ----------\n",
      "“It is our choices, Harry, that show what we truly are, far more than our abilities.”\n",
      "page: 5 ----------\n",
      "“There are only two ways to live your life. One is as though nothing is a miracle. The other is as though everything is a miracle.”\n",
      "page: 5 ----------\n",
      "“The person, be it gentleman or lady, who has not pleasure in a good novel, must be intolerably stupid.”\n",
      "page: 5 ----------\n",
      "“Imperfection is beauty, madness is genius and it's better to be absolutely ridiculous than absolutely boring.”\n",
      "page: 5 ----------\n",
      "“Try not to become a man of success. Rather become a man of value.”\n",
      "page: 5 ----------\n",
      "“It is better to be hated for what you are than to be loved for what you are not.”\n",
      "page: 5 ----------\n",
      "“I have not failed. I've just found 10,000 ways that won't work.”\n",
      "page: 5 ----------\n",
      "“A woman is like a tea bag; you never know how strong it is until it's in hot water.”\n",
      "page: 5 ----------\n",
      "“A day without sunshine is like, you know, night.”\n"
     ]
    }
   ],
   "source": [
    "for x in range(1, 6):\n",
    "   html = browser.html\n",
    "   quote_soup = soup (html, 'html.parser')\n",
    "   quotes = quote_soup.find_all('span', class_='text')\n",
    "   for quote in quotes:\n",
    "      print('page:', x, '----------')\n",
    "      print(quote.text)\n",
    "   browser.links.find_by_partial_text('Next')"
   ]
  },
  {
   "cell_type": "code",
   "execution_count": 10,
   "metadata": {},
   "outputs": [],
   "source": [
    "# Visit the Books to Scrape site\n",
    "url2 = 'http://books.toscrape.com/'\n",
    "browser.visit(url2)"
   ]
  },
  {
   "cell_type": "code",
   "execution_count": 11,
   "metadata": {},
   "outputs": [],
   "source": [
    "html = browser.html\n",
    "soup = soup(html, 'html.parser')\n",
    "\n",
    "sidebar = soup.find('ul', class_='nav-list')\n",
    "\n",
    "categories = sidebar.find_all('li')\n",
    "\n",
    "category_list = []\n",
    "url_list = []\n",
    "book_url_list = []\n",
    "for category in categories:\n",
    "    title = category.text.strip()\n",
    "    category_list.append(title)\n",
    "    book_url = category.find('a')['href']\n",
    "    url_list.append(book_url)\n",
    "\n",
    "book_url_list = ['http://books.toscrape.com/' + url for url in url_list]\n",
    "\n",
    "titles_and_urls = zip(category_list, book_url_list)\n",
    "\n",
    "try:\n",
    "    for title_url in titles_and_urls:\n",
    "        browser.links.find_by_partial_text('next').click()\n",
    "except ElementDoesNotExist:\n",
    "    print(\"Scraping Complete\")"
   ]
  },
  {
   "cell_type": "code",
   "execution_count": 12,
   "metadata": {},
   "outputs": [
    {
     "data": {
      "text/plain": [
       "['http://books.toscrape.com/catalogue/category/books_1/index.html',\n",
       " 'http://books.toscrape.com/catalogue/category/books/travel_2/index.html',\n",
       " 'http://books.toscrape.com/catalogue/category/books/mystery_3/index.html',\n",
       " 'http://books.toscrape.com/catalogue/category/books/historical-fiction_4/index.html',\n",
       " 'http://books.toscrape.com/catalogue/category/books/sequential-art_5/index.html',\n",
       " 'http://books.toscrape.com/catalogue/category/books/classics_6/index.html',\n",
       " 'http://books.toscrape.com/catalogue/category/books/philosophy_7/index.html',\n",
       " 'http://books.toscrape.com/catalogue/category/books/romance_8/index.html',\n",
       " 'http://books.toscrape.com/catalogue/category/books/womens-fiction_9/index.html',\n",
       " 'http://books.toscrape.com/catalogue/category/books/fiction_10/index.html',\n",
       " 'http://books.toscrape.com/catalogue/category/books/childrens_11/index.html',\n",
       " 'http://books.toscrape.com/catalogue/category/books/religion_12/index.html',\n",
       " 'http://books.toscrape.com/catalogue/category/books/nonfiction_13/index.html',\n",
       " 'http://books.toscrape.com/catalogue/category/books/music_14/index.html',\n",
       " 'http://books.toscrape.com/catalogue/category/books/default_15/index.html',\n",
       " 'http://books.toscrape.com/catalogue/category/books/science-fiction_16/index.html',\n",
       " 'http://books.toscrape.com/catalogue/category/books/sports-and-games_17/index.html',\n",
       " 'http://books.toscrape.com/catalogue/category/books/add-a-comment_18/index.html',\n",
       " 'http://books.toscrape.com/catalogue/category/books/fantasy_19/index.html',\n",
       " 'http://books.toscrape.com/catalogue/category/books/new-adult_20/index.html',\n",
       " 'http://books.toscrape.com/catalogue/category/books/young-adult_21/index.html',\n",
       " 'http://books.toscrape.com/catalogue/category/books/science_22/index.html',\n",
       " 'http://books.toscrape.com/catalogue/category/books/poetry_23/index.html',\n",
       " 'http://books.toscrape.com/catalogue/category/books/paranormal_24/index.html',\n",
       " 'http://books.toscrape.com/catalogue/category/books/art_25/index.html',\n",
       " 'http://books.toscrape.com/catalogue/category/books/psychology_26/index.html',\n",
       " 'http://books.toscrape.com/catalogue/category/books/autobiography_27/index.html',\n",
       " 'http://books.toscrape.com/catalogue/category/books/parenting_28/index.html',\n",
       " 'http://books.toscrape.com/catalogue/category/books/adult-fiction_29/index.html',\n",
       " 'http://books.toscrape.com/catalogue/category/books/humor_30/index.html',\n",
       " 'http://books.toscrape.com/catalogue/category/books/horror_31/index.html',\n",
       " 'http://books.toscrape.com/catalogue/category/books/history_32/index.html',\n",
       " 'http://books.toscrape.com/catalogue/category/books/food-and-drink_33/index.html',\n",
       " 'http://books.toscrape.com/catalogue/category/books/christian-fiction_34/index.html',\n",
       " 'http://books.toscrape.com/catalogue/category/books/business_35/index.html',\n",
       " 'http://books.toscrape.com/catalogue/category/books/biography_36/index.html',\n",
       " 'http://books.toscrape.com/catalogue/category/books/thriller_37/index.html',\n",
       " 'http://books.toscrape.com/catalogue/category/books/contemporary_38/index.html',\n",
       " 'http://books.toscrape.com/catalogue/category/books/spirituality_39/index.html',\n",
       " 'http://books.toscrape.com/catalogue/category/books/academic_40/index.html',\n",
       " 'http://books.toscrape.com/catalogue/category/books/self-help_41/index.html',\n",
       " 'http://books.toscrape.com/catalogue/category/books/historical_42/index.html',\n",
       " 'http://books.toscrape.com/catalogue/category/books/christian_43/index.html',\n",
       " 'http://books.toscrape.com/catalogue/category/books/suspense_44/index.html',\n",
       " 'http://books.toscrape.com/catalogue/category/books/short-stories_45/index.html',\n",
       " 'http://books.toscrape.com/catalogue/category/books/novels_46/index.html',\n",
       " 'http://books.toscrape.com/catalogue/category/books/health_47/index.html',\n",
       " 'http://books.toscrape.com/catalogue/category/books/politics_48/index.html',\n",
       " 'http://books.toscrape.com/catalogue/category/books/cultural_49/index.html',\n",
       " 'http://books.toscrape.com/catalogue/category/books/erotica_50/index.html',\n",
       " 'http://books.toscrape.com/catalogue/category/books/crime_51/index.html']"
      ]
     },
     "execution_count": 12,
     "metadata": {},
     "output_type": "execute_result"
    }
   ],
   "source": [
    "book_url_list"
   ]
  },
  {
   "cell_type": "code",
   "execution_count": 13,
   "metadata": {},
   "outputs": [],
   "source": [
    "browser.quit()"
   ]
  },
  {
   "cell_type": "code",
   "execution_count": null,
   "metadata": {},
   "outputs": [],
   "source": []
  }
 ],
 "metadata": {
  "kernelspec": {
   "display_name": "Python 3",
   "language": "python",
   "name": "python3"
  },
  "language_info": {
   "codemirror_mode": {
    "name": "ipython",
    "version": 3
   },
   "file_extension": ".py",
   "mimetype": "text/x-python",
   "name": "python",
   "nbconvert_exporter": "python",
   "pygments_lexer": "ipython3",
   "version": "3.7.9"
  }
 },
 "nbformat": 4,
 "nbformat_minor": 4
}
